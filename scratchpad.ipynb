{
 "cells": [
  {
   "cell_type": "markdown",
   "id": "b3e218b9",
   "metadata": {},
   "source": []
  },
  {
   "cell_type": "code",
   "execution_count": null,
   "id": "4f6ff625",
   "metadata": {},
   "outputs": [],
   "source": [
    "# Basic functionality, \n",
    "# uses a specific named endpoint rather than\n",
    "# the arbitrary javascript execution preferred later\n",
    "import websocket # type: ignore\n",
    "import json\n",
    "\n",
    "ws = websocket.create_connection(\"ws://localhost:8180\") # type: ignore\n",
    "ws.send(json.dumps({ # type: ignore\n",
    "    \"command\": \"showMessage\",\n",
    "    \"args\": [\"👋 Hello from Python!\"]\n",
    "}))\n",
    "ws.close()"
   ]
  },
  {
   "cell_type": "code",
   "execution_count": null,
   "id": "2a6f21bc",
   "metadata": {},
   "outputs": [
    {
     "ename": "Exception",
     "evalue": "{'status': 'ERROR', 'message': \"'css' not found in 'vscode.extensions.all.7.packageJSON.contributes.configuration.0.properties.css.customData'.\"}",
     "output_type": "error",
     "traceback": [
      "\u001b[1;31m---------------------------------------------------------------------------\u001b[0m",
      "\u001b[1;31mException\u001b[0m                                 Traceback (most recent call last)",
      "Cell \u001b[1;32mIn[20], line 9\u001b[0m\n\u001b[0;32m      7\u001b[0m vsCode\u001b[38;5;241m.\u001b[39minspect(\u001b[38;5;124m\"\u001b[39m\u001b[38;5;124mvscode.window\u001b[39m\u001b[38;5;124m\"\u001b[39m)\n\u001b[0;32m      8\u001b[0m vc\u001b[38;5;241m=\u001b[39mRemoteObject(vsCode,\u001b[38;5;28;01mNone\u001b[39;00m,\u001b[38;5;124m'\u001b[39m\u001b[38;5;124mvscode\u001b[39m\u001b[38;5;124m'\u001b[39m)\n\u001b[1;32m----> 9\u001b[0m \u001b[38;5;28mprint\u001b[39m(\u001b[43mvc\u001b[49m\u001b[38;5;241;43m.\u001b[39;49m\u001b[38;5;21;43m__repr__\u001b[39;49m\u001b[43m(\u001b[49m\u001b[43mrecursive\u001b[49m\u001b[38;5;241;43m=\u001b[39;49m\u001b[38;5;28;43;01mTrue\u001b[39;49;00m\u001b[43m)\u001b[49m)\n",
      "Cell \u001b[1;32mIn[19], line 90\u001b[0m, in \u001b[0;36mRemoteObject.__repr__\u001b[1;34m(self, indent, recursive)\u001b[0m\n\u001b[0;32m     88\u001b[0m         ret\u001b[38;5;241m.\u001b[39mappend(\u001b[38;5;124mf\u001b[39m\u001b[38;5;124m'\u001b[39m\u001b[38;5;132;01m{\u001b[39;00mnextIndent\u001b[38;5;132;01m}\u001b[39;00m\u001b[38;5;124mobject \u001b[39m\u001b[38;5;132;01m{\u001b[39;00mchild\u001b[38;5;241m.\u001b[39mname\u001b[38;5;132;01m}\u001b[39;00m\u001b[38;5;124m'\u001b[39m)\n\u001b[0;32m     89\u001b[0m     \u001b[38;5;28;01melse\u001b[39;00m:\n\u001b[1;32m---> 90\u001b[0m         ret\u001b[38;5;241m.\u001b[39mappend(\u001b[43mchild\u001b[49m\u001b[38;5;241;43m.\u001b[39;49m\u001b[38;5;21;43m__repr__\u001b[39;49m\u001b[43m(\u001b[49m\u001b[43mnextIndent\u001b[49m\u001b[43m,\u001b[49m\u001b[43mrecursive\u001b[49m\u001b[43m)\u001b[49m)\n\u001b[0;32m     91\u001b[0m \u001b[38;5;28;01melse\u001b[39;00m:\n\u001b[0;32m     92\u001b[0m     ret\u001b[38;5;241m.\u001b[39mappend(child\u001b[38;5;241m.\u001b[39m\u001b[38;5;21m__repr__\u001b[39m(nextIndent))\n",
      "Cell \u001b[1;32mIn[19], line 90\u001b[0m, in \u001b[0;36mRemoteObject.__repr__\u001b[1;34m(self, indent, recursive)\u001b[0m\n\u001b[0;32m     88\u001b[0m         ret\u001b[38;5;241m.\u001b[39mappend(\u001b[38;5;124mf\u001b[39m\u001b[38;5;124m'\u001b[39m\u001b[38;5;132;01m{\u001b[39;00mnextIndent\u001b[38;5;132;01m}\u001b[39;00m\u001b[38;5;124mobject \u001b[39m\u001b[38;5;132;01m{\u001b[39;00mchild\u001b[38;5;241m.\u001b[39mname\u001b[38;5;132;01m}\u001b[39;00m\u001b[38;5;124m'\u001b[39m)\n\u001b[0;32m     89\u001b[0m     \u001b[38;5;28;01melse\u001b[39;00m:\n\u001b[1;32m---> 90\u001b[0m         ret\u001b[38;5;241m.\u001b[39mappend(\u001b[43mchild\u001b[49m\u001b[38;5;241;43m.\u001b[39;49m\u001b[38;5;21;43m__repr__\u001b[39;49m\u001b[43m(\u001b[49m\u001b[43mnextIndent\u001b[49m\u001b[43m,\u001b[49m\u001b[43mrecursive\u001b[49m\u001b[43m)\u001b[49m)\n\u001b[0;32m     91\u001b[0m \u001b[38;5;28;01melse\u001b[39;00m:\n\u001b[0;32m     92\u001b[0m     ret\u001b[38;5;241m.\u001b[39mappend(child\u001b[38;5;241m.\u001b[39m\u001b[38;5;21m__repr__\u001b[39m(nextIndent))\n",
      "    \u001b[1;31m[... skipping similar frames: RemoteObject.__repr__ at line 90 (6 times)]\u001b[0m\n",
      "Cell \u001b[1;32mIn[19], line 90\u001b[0m, in \u001b[0;36mRemoteObject.__repr__\u001b[1;34m(self, indent, recursive)\u001b[0m\n\u001b[0;32m     88\u001b[0m         ret\u001b[38;5;241m.\u001b[39mappend(\u001b[38;5;124mf\u001b[39m\u001b[38;5;124m'\u001b[39m\u001b[38;5;132;01m{\u001b[39;00mnextIndent\u001b[38;5;132;01m}\u001b[39;00m\u001b[38;5;124mobject \u001b[39m\u001b[38;5;132;01m{\u001b[39;00mchild\u001b[38;5;241m.\u001b[39mname\u001b[38;5;132;01m}\u001b[39;00m\u001b[38;5;124m'\u001b[39m)\n\u001b[0;32m     89\u001b[0m     \u001b[38;5;28;01melse\u001b[39;00m:\n\u001b[1;32m---> 90\u001b[0m         ret\u001b[38;5;241m.\u001b[39mappend(\u001b[43mchild\u001b[49m\u001b[38;5;241;43m.\u001b[39;49m\u001b[38;5;21;43m__repr__\u001b[39;49m\u001b[43m(\u001b[49m\u001b[43mnextIndent\u001b[49m\u001b[43m,\u001b[49m\u001b[43mrecursive\u001b[49m\u001b[43m)\u001b[49m)\n\u001b[0;32m     91\u001b[0m \u001b[38;5;28;01melse\u001b[39;00m:\n\u001b[0;32m     92\u001b[0m     ret\u001b[38;5;241m.\u001b[39mappend(child\u001b[38;5;241m.\u001b[39m\u001b[38;5;21m__repr__\u001b[39m(nextIndent))\n",
      "Cell \u001b[1;32mIn[19], line 85\u001b[0m, in \u001b[0;36mRemoteObject.__repr__\u001b[1;34m(self, indent, recursive)\u001b[0m\n\u001b[0;32m     83\u001b[0m ret\u001b[38;5;241m=\u001b[39m[\u001b[38;5;124mf\u001b[39m\u001b[38;5;124m'\u001b[39m\u001b[38;5;132;01m{\u001b[39;00mindent\u001b[38;5;132;01m}\u001b[39;00m\u001b[38;5;124mobject \u001b[39m\u001b[38;5;132;01m{\u001b[39;00m\u001b[38;5;28mself\u001b[39m\u001b[38;5;241m.\u001b[39mname\u001b[38;5;132;01m}\u001b[39;00m\u001b[38;5;124m'\u001b[39m]\n\u001b[0;32m     84\u001b[0m nextIndent\u001b[38;5;241m=\u001b[39m\u001b[38;5;124mf\u001b[39m\u001b[38;5;124m'\u001b[39m\u001b[38;5;132;01m{\u001b[39;00mindent\u001b[38;5;132;01m}\u001b[39;00m\u001b[38;5;130;01m\\t\u001b[39;00m\u001b[38;5;124m'\u001b[39m\n\u001b[1;32m---> 85\u001b[0m \u001b[38;5;28;01mfor\u001b[39;00m child \u001b[38;5;129;01min\u001b[39;00m \u001b[38;5;28mself\u001b[39m\u001b[38;5;241m.\u001b[39mchildren:\n\u001b[0;32m     86\u001b[0m     \u001b[38;5;28;01mif\u001b[39;00m \u001b[38;5;28misinstance\u001b[39m(child,RemoteObject):\n\u001b[0;32m     87\u001b[0m         \u001b[38;5;28;01mif\u001b[39;00m \u001b[38;5;129;01mnot\u001b[39;00m recursive:\n",
      "Cell \u001b[1;32mIn[19], line 71\u001b[0m, in \u001b[0;36mRemoteObject.children\u001b[1;34m(self)\u001b[0m\n\u001b[0;32m     66\u001b[0m \u001b[38;5;129m@property\u001b[39m\n\u001b[0;32m     67\u001b[0m \u001b[38;5;28;01mdef\u001b[39;00m \u001b[38;5;21mchildren\u001b[39m(\u001b[38;5;28mself\u001b[39m)\u001b[38;5;241m-\u001b[39m\u001b[38;5;241m>\u001b[39mtyping\u001b[38;5;241m.\u001b[39mIterable[\u001b[38;5;124m\"\u001b[39m\u001b[38;5;124mRemote\u001b[39m\u001b[38;5;124m\"\u001b[39m]:\n\u001b[0;32m     68\u001b[0m \u001b[38;5;250m    \u001b[39m\u001b[38;5;124;03m\"\"\"\u001b[39;00m\n\u001b[0;32m     69\u001b[0m \u001b[38;5;124;03m    All children for this item\u001b[39;00m\n\u001b[0;32m     70\u001b[0m \u001b[38;5;124;03m    \"\"\"\u001b[39;00m\n\u001b[1;32m---> 71\u001b[0m     \u001b[38;5;28;01mfor\u001b[39;00m child \u001b[38;5;129;01min\u001b[39;00m \u001b[38;5;28;43mself\u001b[39;49m\u001b[38;5;241;43m.\u001b[39;49m\u001b[43mvsCode\u001b[49m\u001b[38;5;241;43m.\u001b[39;49m\u001b[43minspect\u001b[49m\u001b[43m(\u001b[49m\u001b[38;5;28;43mself\u001b[39;49m\u001b[38;5;241;43m.\u001b[39;49m\u001b[43mfullPath\u001b[49m\u001b[43m)\u001b[49m\u001b[38;5;241m.\u001b[39mvalues():\n\u001b[0;32m     72\u001b[0m         \u001b[38;5;28;01mif\u001b[39;00m child[\u001b[38;5;124m'\u001b[39m\u001b[38;5;124mtype\u001b[39m\u001b[38;5;124m'\u001b[39m]\u001b[38;5;241m==\u001b[39m\u001b[38;5;124m'\u001b[39m\u001b[38;5;124mobject\u001b[39m\u001b[38;5;124m'\u001b[39m:\n\u001b[0;32m     73\u001b[0m             \u001b[38;5;28;01myield\u001b[39;00m RemoteObject(\u001b[38;5;28mself\u001b[39m\u001b[38;5;241m.\u001b[39mvsCode,\u001b[38;5;28mself\u001b[39m,child[\u001b[38;5;124m'\u001b[39m\u001b[38;5;124mname\u001b[39m\u001b[38;5;124m'\u001b[39m])\n",
      "Cell \u001b[1;32mIn[19], line 349\u001b[0m, in \u001b[0;36mVsCode.inspect\u001b[1;34m(self, valueName)\u001b[0m\n\u001b[0;32m    347\u001b[0m \u001b[38;5;28;01mif\u001b[39;00m ret[\u001b[38;5;124m'\u001b[39m\u001b[38;5;124mstatus\u001b[39m\u001b[38;5;124m'\u001b[39m]\u001b[38;5;241m==\u001b[39m\u001b[38;5;124m'\u001b[39m\u001b[38;5;124mOK\u001b[39m\u001b[38;5;124m'\u001b[39m:\n\u001b[0;32m    348\u001b[0m     \u001b[38;5;28;01mreturn\u001b[39;00m ret[\u001b[38;5;124m'\u001b[39m\u001b[38;5;124mmembers\u001b[39m\u001b[38;5;124m'\u001b[39m]\n\u001b[1;32m--> 349\u001b[0m \u001b[38;5;28;01mraise\u001b[39;00m \u001b[38;5;167;01mException\u001b[39;00m(\u001b[38;5;28mstr\u001b[39m(ret))\n",
      "\u001b[1;31mException\u001b[0m: {'status': 'ERROR', 'message': \"'css' not found in 'vscode.extensions.all.7.packageJSON.contributes.configuration.0.properties.css.customData'.\"}"
     ]
    }
   ],
   "source": [
    "# Test the functionality or pythonBridgeClient.py\n",
    "from pythonBridgeClient import *\n",
    "\n",
    "projectName=\"c:\\\\Users\\\\Kut\\\\.continue\"\n",
    "vsCode=VsCode(projectName)\n",
    "#vsCode.executeApi(\"showMessage\",\"👋 Hello world!\")\n",
    "#vsCode.queryApi(True)\n",
    "#vsCode.commands\n",
    "vsCode.eval(\"2+4\")\n",
    "vsCode.inspect(\"vscode.window\")\n",
    "vc=RemoteObject(vsCode,None,'vscode')\n",
    "print(vc.__repr__(recursive=True))"
   ]
  }
 ],
 "metadata": {
  "kernelspec": {
   "display_name": "base",
   "language": "python",
   "name": "python3"
  },
  "language_info": {
   "codemirror_mode": {
    "name": "ipython",
    "version": 3
   },
   "file_extension": ".py",
   "mimetype": "text/x-python",
   "name": "python",
   "nbconvert_exporter": "python",
   "pygments_lexer": "ipython3",
   "version": "3.12.5"
  }
 },
 "nbformat": 4,
 "nbformat_minor": 5
}
